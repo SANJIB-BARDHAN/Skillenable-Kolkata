{
 "cells": [
  {
   "cell_type": "markdown",
   "id": "5d43c542",
   "metadata": {},
   "source": [
    "## 1) WA Python function to check if a given number is prime or not"
   ]
  },
  {
   "cell_type": "code",
   "execution_count": 3,
   "id": "cb1b6bfe",
   "metadata": {},
   "outputs": [
    {
     "name": "stdout",
     "output_type": "stream",
     "text": [
      "38 is not a prime number\n"
     ]
    }
   ],
   "source": [
    "def is_prime(number):\n",
    "    if number <= 1:\n",
    "        return False\n",
    "\n",
    "    # Check for divisibility from 2 to square root of the number\n",
    "    for i in range(2, int(number ** 0.5) + 1):\n",
    "        if number % i == 0:\n",
    "            return False\n",
    "\n",
    "    return True\n",
    "\n",
    "num = 38\n",
    "if is_prime(num):\n",
    "    print(num, \"is a prime number\")\n",
    "else:\n",
    "    print(num, \"is not a prime number\")\n",
    "\n"
   ]
  },
  {
   "cell_type": "markdown",
   "id": "ca06a0d8",
   "metadata": {},
   "source": [
    "## 2) WA Python single function that returns the result of addition, subtraction, multiplication, division\n"
   ]
  },
  {
   "cell_type": "code",
   "execution_count": 4,
   "id": "4e362b72",
   "metadata": {},
   "outputs": [
    {
     "name": "stdout",
     "output_type": "stream",
     "text": [
      "Addition: 15\n",
      "Subtraction: 5\n",
      "Multiplication: 50\n",
      "Division: 2.0\n"
     ]
    }
   ],
   "source": [
    "def perform_operations(num1, num2):\n",
    "    addition = num1 + num2\n",
    "    subtraction = num1 - num2\n",
    "    multiplication = num1 * num2\n",
    "\n",
    "    # Perform division only if num2 is not zero\n",
    "    if num2 != 0:\n",
    "        division = num1 / num2\n",
    "    else:\n",
    "        division = \"Cannot divide by zero\"\n",
    "\n",
    "    return addition, subtraction, multiplication, division\n",
    "\n",
    "result = perform_operations(10, 5)\n",
    "print(\"Addition:\", result[0])\n",
    "print(\"Subtraction:\", result[1])\n",
    "print(\"Multiplication:\", result[2])\n",
    "print(\"Division:\", result[3])\n"
   ]
  },
  {
   "cell_type": "markdown",
   "id": "298d039b",
   "metadata": {},
   "source": [
    "## 3) WAPP to find sum of squares of list of numbers using calling a function from another function\n"
   ]
  },
  {
   "cell_type": "code",
   "execution_count": 6,
   "id": "6bf90828",
   "metadata": {},
   "outputs": [
    {
     "name": "stdout",
     "output_type": "stream",
     "text": [
      "Sum of squares: 91\n"
     ]
    }
   ],
   "source": [
    "def square(number):\n",
    "    return number ** 2\n",
    "\n",
    "def sum_of_squares(numbers):\n",
    "    square_sum = 0\n",
    "    for num in numbers:\n",
    "        square_sum += square(num)\n",
    "    return square_sum\n",
    "\n",
    "def main():\n",
    "    num_list = [1, 2, 3, 4, 5, 6]\n",
    "    result = sum_of_squares(num_list)\n",
    "    print(\"Sum of squares:\", result)\n",
    "\n",
    "# Call the main function to run the program\n",
    "main()\n"
   ]
  },
  {
   "cell_type": "markdown",
   "id": "e654a20d",
   "metadata": {},
   "source": [
    "## 4) WA python function to demonstrate passing a variable number of arguments\n"
   ]
  },
  {
   "cell_type": "code",
   "execution_count": 7,
   "id": "89764f28",
   "metadata": {},
   "outputs": [
    {
     "name": "stdout",
     "output_type": "stream",
     "text": [
      "1\n",
      "2\n",
      "3\n",
      "Hello\n",
      "World\n",
      "True\n"
     ]
    }
   ],
   "source": [
    "def print_arguments(*args):\n",
    "    for arg in args:\n",
    "        print(arg)\n",
    "\n",
    "# Call the function with different number of arguments\n",
    "print_arguments(1, 2, 3)\n",
    "print_arguments('Hello', 'World')\n",
    "print_arguments(True)\n",
    "\n"
   ]
  },
  {
   "cell_type": "markdown",
   "id": "05aa5260",
   "metadata": {},
   "source": [
    "## 5) WA python recursive function to solve towers of Hanoi problem\n"
   ]
  },
  {
   "cell_type": "code",
   "execution_count": 9,
   "id": "c2703d1b",
   "metadata": {},
   "outputs": [
    {
     "name": "stdout",
     "output_type": "stream",
     "text": [
      "Move disk 1 from A to C\n",
      "Move disk 2 from A to B\n",
      "Move disk 1 from C to B\n",
      "Move disk 3 from A to C\n",
      "Move disk 1 from B to A\n",
      "Move disk 2 from B to C\n",
      "Move disk 1 from A to C\n"
     ]
    }
   ],
   "source": [
    "def towers_of_hanoi(n, source, destination, auxiliary):\n",
    "    if n == 1:\n",
    "        print(\"Move disk 1 from\", source, \"to\", destination)\n",
    "        return\n",
    "\n",
    "    towers_of_hanoi(n - 1, source, auxiliary, destination)\n",
    "    print(\"Move disk\", n, \"from\", source, \"to\", destination)\n",
    "    towers_of_hanoi(n - 1, auxiliary, destination, source)\n",
    "\n",
    "# Call the function to solve the Towers of Hanoi problem\n",
    "towers_of_hanoi(3, 'A', 'C', 'B')\n"
   ]
  },
  {
   "cell_type": "markdown",
   "id": "3b8cc3a0",
   "metadata": {},
   "source": [
    "## 6) WAPP  to Display Fibonacci Sequence Using Recursion\n"
   ]
  },
  {
   "cell_type": "code",
   "execution_count": 10,
   "id": "44132aa7",
   "metadata": {},
   "outputs": [
    {
     "name": "stdout",
     "output_type": "stream",
     "text": [
      "Fibonacci Sequence:\n",
      "[0, 1, 1, 2, 3, 5, 8, 13, 21, 34]\n"
     ]
    }
   ],
   "source": [
    "def fibonacci(n):\n",
    "    if n <= 0:\n",
    "        return []\n",
    "    elif n == 1:\n",
    "        return [0]\n",
    "    elif n == 2:\n",
    "        return [0, 1]\n",
    "    else:\n",
    "        sequence = fibonacci(n - 1)\n",
    "        next_number = sequence[-1] + sequence[-2]\n",
    "        sequence.append(next_number)\n",
    "        return sequence\n",
    "\n",
    "# Test the function\n",
    "n = 10\n",
    "fib_seq = fibonacci(n)\n",
    "print(\"Fibonacci Sequence:\")\n",
    "print(fib_seq)\n"
   ]
  },
  {
   "cell_type": "markdown",
   "id": "c25b1261",
   "metadata": {},
   "source": [
    "## 7) WAPP to make a function that always triples the number you send in using lambda\n"
   ]
  },
  {
   "cell_type": "code",
   "execution_count": 11,
   "id": "6e925d8a",
   "metadata": {},
   "outputs": [
    {
     "name": "stdout",
     "output_type": "stream",
     "text": [
      "Result: 15\n"
     ]
    }
   ],
   "source": [
    "triple = lambda x: x * 3\n",
    "\n",
    "# Test the function\n",
    "number = 5\n",
    "result = triple(number)\n",
    "print(\"Result:\", result)\n"
   ]
  },
  {
   "cell_type": "markdown",
   "id": "66c8af20",
   "metadata": {},
   "source": [
    "## 8) WAPP to double all numbers using map()\n"
   ]
  },
  {
   "cell_type": "code",
   "execution_count": 12,
   "id": "ad4993fe",
   "metadata": {},
   "outputs": [
    {
     "name": "stdout",
     "output_type": "stream",
     "text": [
      "Original numbers: [1, 2, 3, 4, 5]\n",
      "Doubled numbers: [2, 4, 6, 8, 10]\n"
     ]
    }
   ],
   "source": [
    "def double(number):\n",
    "    return number * 2\n",
    "\n",
    "numbers = [1, 2, 3, 4, 5]\n",
    "doubled_numbers = list(map(double, numbers))\n",
    "\n",
    "print(\"Original numbers:\", numbers)\n",
    "print(\"Doubled numbers:\", doubled_numbers)\n"
   ]
  },
  {
   "cell_type": "markdown",
   "id": "0c66580b",
   "metadata": {},
   "source": [
    "## 9) WAPP to a pre-defined function product which return the product of 2 numbers passed into it & is used as an argument in the reduce function which is passed along with a list of numbers\n"
   ]
  },
  {
   "cell_type": "code",
   "execution_count": 13,
   "id": "a4f0eee8",
   "metadata": {},
   "outputs": [
    {
     "name": "stdout",
     "output_type": "stream",
     "text": [
      "Numbers: [1, 2, 3, 4, 5]\n",
      "Product: 120\n"
     ]
    }
   ],
   "source": [
    "from functools import reduce\n",
    "\n",
    "def product(x, y):\n",
    "    return x * y\n",
    "\n",
    "numbers = [1, 2, 3, 4, 5]\n",
    "result = reduce(product, numbers)\n",
    "\n",
    "print(\"Numbers:\", numbers)\n",
    "print(\"Product:\", result)\n"
   ]
  },
  {
   "cell_type": "markdown",
   "id": "e9bf5903",
   "metadata": {},
   "source": [
    "## 10) Write a Python program which iterates the integers from 1 to 80. For multiples of three print \"Fizz\" instead of the number and for the multiples of five print \"Buzz\". For numbers which are multiples of both three and five print \"FizzBuzz\".\n"
   ]
  },
  {
   "cell_type": "code",
   "execution_count": 14,
   "id": "1e97582f",
   "metadata": {},
   "outputs": [
    {
     "name": "stdout",
     "output_type": "stream",
     "text": [
      "1\n",
      "2\n",
      "Fizz\n",
      "4\n",
      "Buzz\n",
      "Fizz\n",
      "7\n",
      "8\n",
      "Fizz\n",
      "Buzz\n",
      "11\n",
      "Fizz\n",
      "13\n",
      "14\n",
      "FizzBuzz\n",
      "16\n",
      "17\n",
      "Fizz\n",
      "19\n",
      "Buzz\n",
      "Fizz\n",
      "22\n",
      "23\n",
      "Fizz\n",
      "Buzz\n",
      "26\n",
      "Fizz\n",
      "28\n",
      "29\n",
      "FizzBuzz\n",
      "31\n",
      "32\n",
      "Fizz\n",
      "34\n",
      "Buzz\n",
      "Fizz\n",
      "37\n",
      "38\n",
      "Fizz\n",
      "Buzz\n",
      "41\n",
      "Fizz\n",
      "43\n",
      "44\n",
      "FizzBuzz\n",
      "46\n",
      "47\n",
      "Fizz\n",
      "49\n",
      "Buzz\n",
      "Fizz\n",
      "52\n",
      "53\n",
      "Fizz\n",
      "Buzz\n",
      "56\n",
      "Fizz\n",
      "58\n",
      "59\n",
      "FizzBuzz\n",
      "61\n",
      "62\n",
      "Fizz\n",
      "64\n",
      "Buzz\n",
      "Fizz\n",
      "67\n",
      "68\n",
      "Fizz\n",
      "Buzz\n",
      "71\n",
      "Fizz\n",
      "73\n",
      "74\n",
      "FizzBuzz\n",
      "76\n",
      "77\n",
      "Fizz\n",
      "79\n",
      "Buzz\n"
     ]
    }
   ],
   "source": [
    "for num in range(1, 81):\n",
    "    if num % 3 == 0 and num % 5 == 0:\n",
    "        print(\"FizzBuzz\")\n",
    "    elif num % 3 == 0:\n",
    "        print(\"Fizz\")\n",
    "    elif num % 5 == 0:\n",
    "        print(\"Buzz\")\n",
    "    else:\n",
    "        print(num)\n"
   ]
  },
  {
   "cell_type": "code",
   "execution_count": null,
   "id": "5debf189",
   "metadata": {},
   "outputs": [],
   "source": []
  }
 ],
 "metadata": {
  "kernelspec": {
   "display_name": "Python 3 (ipykernel)",
   "language": "python",
   "name": "python3"
  },
  "language_info": {
   "codemirror_mode": {
    "name": "ipython",
    "version": 3
   },
   "file_extension": ".py",
   "mimetype": "text/x-python",
   "name": "python",
   "nbconvert_exporter": "python",
   "pygments_lexer": "ipython3",
   "version": "3.9.7"
  }
 },
 "nbformat": 4,
 "nbformat_minor": 5
}
